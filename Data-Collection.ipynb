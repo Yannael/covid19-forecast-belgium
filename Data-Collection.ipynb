{
 "cells": [
  {
   "cell_type": "code",
   "execution_count": 24,
   "metadata": {},
   "outputs": [],
   "source": [
    "library(tidyverse) #Collection of packages in the tidyverse (see https://www.tidyverse.org/)\n",
    "library(gsubfn)\n"
   ]
  },
  {
   "cell_type": "markdown",
   "metadata": {},
   "source": [
    "#  John Hopkins University data"
   ]
  },
  {
   "cell_type": "markdown",
   "metadata": {},
   "source": [
    "## Mortality data"
   ]
  },
  {
   "cell_type": "code",
   "execution_count": 160,
   "metadata": {
    "collapsed": true
   },
   "outputs": [],
   "source": [
    "url_mortality_data = 'https://raw.githubusercontent.com/CSSEGISandData/COVID-19/master/csse_covid_19_data/csse_covid_19_time_series/time_series_covid19_deaths_global.csv'\n",
    "mortality_data = read.csv(url(url_mortality_data),stringsAsFactors = FALSE)"
   ]
  },
  {
   "cell_type": "code",
   "execution_count": 161,
   "metadata": {},
   "outputs": [],
   "source": [
    "mortality_data = as.numeric(mortality_data[mortality_data[,'Country.Region']==\"Belgium\",5:NCOL(mortality_data)])\n",
    "# Take day to day difference to get incient mortality \n",
    "mortality_data = mortality_data[2:length(mortality_data)]-mortality_data[1:(length(mortality_data)-1)]\n",
    "mortality_data = data.frame(list(value=mortality_data))\n",
    "mortality_data = mortality_data  %>%\n",
    "    mutate(date=as.Date(\"2020-01-23\",\"%Y-%m-%d\")+0:(NROW(mortality_data)-1)) %>%\n",
    "    mutate(location=\"Belgium\") %>%\n",
    "    filter(date>=\"2020-03-01\")"
   ]
  },
  {
   "cell_type": "code",
   "execution_count": 164,
   "metadata": {},
   "outputs": [],
   "source": [
    "write.csv(file=\"data-truth/truth-incident-deaths.csv\", x=mortality_data, row.names=F)"
   ]
  },
  {
   "cell_type": "code",
   "execution_count": 163,
   "metadata": {},
   "outputs": [
    {
     "data": {
      "text/html": [
       "<table>\n",
       "<caption>A data.frame: 6 × 3</caption>\n",
       "<thead>\n",
       "\t<tr><th></th><th scope=col>value</th><th scope=col>date</th><th scope=col>location</th></tr>\n",
       "\t<tr><th></th><th scope=col>&lt;dbl&gt;</th><th scope=col>&lt;date&gt;</th><th scope=col>&lt;chr&gt;</th></tr>\n",
       "</thead>\n",
       "<tbody>\n",
       "\t<tr><th scope=row>77</th><td>46</td><td>2020-05-16</td><td>Belgium</td></tr>\n",
       "\t<tr><th scope=row>78</th><td>47</td><td>2020-05-17</td><td>Belgium</td></tr>\n",
       "\t<tr><th scope=row>79</th><td>28</td><td>2020-05-18</td><td>Belgium</td></tr>\n",
       "\t<tr><th scope=row>80</th><td>28</td><td>2020-05-19</td><td>Belgium</td></tr>\n",
       "\t<tr><th scope=row>81</th><td>42</td><td>2020-05-20</td><td>Belgium</td></tr>\n",
       "\t<tr><th scope=row>82</th><td>36</td><td>2020-05-21</td><td>Belgium</td></tr>\n",
       "</tbody>\n",
       "</table>\n"
      ],
      "text/latex": [
       "A data.frame: 6 × 3\n",
       "\\begin{tabular}{r|lll}\n",
       "  & value & date & location\\\\\n",
       "  & <dbl> & <date> & <chr>\\\\\n",
       "\\hline\n",
       "\t77 & 46 & 2020-05-16 & Belgium\\\\\n",
       "\t78 & 47 & 2020-05-17 & Belgium\\\\\n",
       "\t79 & 28 & 2020-05-18 & Belgium\\\\\n",
       "\t80 & 28 & 2020-05-19 & Belgium\\\\\n",
       "\t81 & 42 & 2020-05-20 & Belgium\\\\\n",
       "\t82 & 36 & 2020-05-21 & Belgium\\\\\n",
       "\\end{tabular}\n"
      ],
      "text/markdown": [
       "\n",
       "A data.frame: 6 × 3\n",
       "\n",
       "| <!--/--> | value &lt;dbl&gt; | date &lt;date&gt; | location &lt;chr&gt; |\n",
       "|---|---|---|---|\n",
       "| 77 | 46 | 2020-05-16 | Belgium |\n",
       "| 78 | 47 | 2020-05-17 | Belgium |\n",
       "| 79 | 28 | 2020-05-18 | Belgium |\n",
       "| 80 | 28 | 2020-05-19 | Belgium |\n",
       "| 81 | 42 | 2020-05-20 | Belgium |\n",
       "| 82 | 36 | 2020-05-21 | Belgium |\n",
       "\n"
      ],
      "text/plain": [
       "   value date       location\n",
       "77 46    2020-05-16 Belgium \n",
       "78 47    2020-05-17 Belgium \n",
       "79 28    2020-05-18 Belgium \n",
       "80 28    2020-05-19 Belgium \n",
       "81 42    2020-05-20 Belgium \n",
       "82 36    2020-05-21 Belgium "
      ]
     },
     "metadata": {},
     "output_type": "display_data"
    }
   ],
   "source": [
    "tail(mortality_data)"
   ]
  },
  {
   "cell_type": "markdown",
   "metadata": {},
   "source": [
    "# Sciensano data"
   ]
  },
  {
   "cell_type": "markdown",
   "metadata": {},
   "source": [
    "## Mortality data"
   ]
  },
  {
   "cell_type": "code",
   "execution_count": 153,
   "metadata": {
    "collapsed": true
   },
   "outputs": [],
   "source": [
    "url_mortality_data = 'https://epistat.sciensano.be/Data/COVID19BE_MORT.csv'\n",
    "mortality_data = read.csv(url(url_mortality_data),stringsAsFactors = FALSE)"
   ]
  },
  {
   "cell_type": "code",
   "execution_count": 154,
   "metadata": {},
   "outputs": [],
   "source": [
    "mortality_data = mortality_data %>% \n",
    "    mutate(date=DATE, location=REGION,value=DEATHS) %>%\n",
    "    select(date,location,value) %>%\n",
    "    group_by(date,location) %>%\n",
    "    summarize(value=sum(value,na.rm=TRUE)) "
   ]
  },
  {
   "cell_type": "code",
   "execution_count": 155,
   "metadata": {
    "collapsed": true
   },
   "outputs": [],
   "source": [
    "mortality_data_country = mortality_data %>% \n",
    "    group_by(date) %>% \n",
    "    summarize(value=sum(value,na.rm=TRUE)) %>%\n",
    "    mutate(location=\"Belgium\")"
   ]
  },
  {
   "cell_type": "code",
   "execution_count": 156,
   "metadata": {},
   "outputs": [],
   "source": [
    "mortality_data = bind_rows(mortality_data,mortality_data_country) %>%\n",
    "    arrange(date,location)"
   ]
  },
  {
   "cell_type": "code",
   "execution_count": 157,
   "metadata": {
    "collapsed": true
   },
   "outputs": [],
   "source": [
    "write.csv(file=\"data-truth/truth-incident-deaths-sciensano.csv\", x=mortality_data, row.names=F)"
   ]
  },
  {
   "cell_type": "code",
   "execution_count": 158,
   "metadata": {},
   "outputs": [
    {
     "data": {
      "text/html": [
       "<table>\n",
       "<caption>A grouped_df: 6 × 3</caption>\n",
       "<thead>\n",
       "\t<tr><th scope=col>date</th><th scope=col>location</th><th scope=col>value</th></tr>\n",
       "\t<tr><th scope=col>&lt;chr&gt;</th><th scope=col>&lt;chr&gt;</th><th scope=col>&lt;int&gt;</th></tr>\n",
       "</thead>\n",
       "<tbody>\n",
       "\t<tr><td>2020-03-10</td><td>Belgium </td><td>1</td></tr>\n",
       "\t<tr><td>2020-03-10</td><td>Brussels</td><td>1</td></tr>\n",
       "\t<tr><td>2020-03-11</td><td>Belgium </td><td>3</td></tr>\n",
       "\t<tr><td>2020-03-11</td><td>Brussels</td><td>2</td></tr>\n",
       "\t<tr><td>2020-03-11</td><td>Flanders</td><td>1</td></tr>\n",
       "\t<tr><td>2020-03-12</td><td>Belgium </td><td>1</td></tr>\n",
       "</tbody>\n",
       "</table>\n"
      ],
      "text/latex": [
       "A grouped\\_df: 6 × 3\n",
       "\\begin{tabular}{lll}\n",
       " date & location & value\\\\\n",
       " <chr> & <chr> & <int>\\\\\n",
       "\\hline\n",
       "\t 2020-03-10 & Belgium  & 1\\\\\n",
       "\t 2020-03-10 & Brussels & 1\\\\\n",
       "\t 2020-03-11 & Belgium  & 3\\\\\n",
       "\t 2020-03-11 & Brussels & 2\\\\\n",
       "\t 2020-03-11 & Flanders & 1\\\\\n",
       "\t 2020-03-12 & Belgium  & 1\\\\\n",
       "\\end{tabular}\n"
      ],
      "text/markdown": [
       "\n",
       "A grouped_df: 6 × 3\n",
       "\n",
       "| date &lt;chr&gt; | location &lt;chr&gt; | value &lt;int&gt; |\n",
       "|---|---|---|\n",
       "| 2020-03-10 | Belgium  | 1 |\n",
       "| 2020-03-10 | Brussels | 1 |\n",
       "| 2020-03-11 | Belgium  | 3 |\n",
       "| 2020-03-11 | Brussels | 2 |\n",
       "| 2020-03-11 | Flanders | 1 |\n",
       "| 2020-03-12 | Belgium  | 1 |\n",
       "\n"
      ],
      "text/plain": [
       "  date       location value\n",
       "1 2020-03-10 Belgium  1    \n",
       "2 2020-03-10 Brussels 1    \n",
       "3 2020-03-11 Belgium  3    \n",
       "4 2020-03-11 Brussels 2    \n",
       "5 2020-03-11 Flanders 1    \n",
       "6 2020-03-12 Belgium  1    "
      ]
     },
     "metadata": {},
     "output_type": "display_data"
    }
   ],
   "source": [
    "head(mortality_data)"
   ]
  },
  {
   "cell_type": "code",
   "execution_count": 124,
   "metadata": {},
   "outputs": [
    {
     "name": "stderr",
     "output_type": "stream",
     "text": [
      "Parsed with column specification:\n",
      "cols(\n",
      "  date = \u001b[34mcol_date(format = \"\")\u001b[39m,\n",
      "  location = \u001b[31mcol_character()\u001b[39m,\n",
      "  value = \u001b[32mcol_double()\u001b[39m\n",
      ")\n",
      "\n",
      "Parsed with column specification:\n",
      "cols(\n",
      "  date = \u001b[34mcol_date(format = \"\")\u001b[39m,\n",
      "  location = \u001b[31mcol_character()\u001b[39m,\n",
      "  value = \u001b[32mcol_double()\u001b[39m\n",
      ")\n",
      "\n"
     ]
    }
   ],
   "source": [
    "truth = bind_rows(\n",
    "  read_csv(\"data-truth/truth-incident-deaths-sciensano.csv\") %>% \n",
    "    mutate(inc_cum = \"inc\", unit = \"day\"),\n",
    "  \n",
    "  read_csv(\"data-truth/truth-incident-deaths-sciensano.csv\") %>% \n",
    "    dplyr::mutate(week = MMWRweek::MMWRweek(date)$MMWRweek) %>%\n",
    "    dplyr::group_by(location,week) %>%\n",
    "    dplyr::summarize(date = max(date),\n",
    "                     value = sum(value, na.rm = TRUE)) %>%\n",
    "    dplyr::filter(weekdays(date) == \"Saturday\") %>%\n",
    "    dplyr::mutate(inc_cum = \"inc\", unit = \"wk\") %>%\n",
    "    dplyr::select(-week)\n",
    ")"
   ]
  },
  {
   "cell_type": "code",
   "execution_count": 125,
   "metadata": {},
   "outputs": [
    {
     "data": {
      "text/html": [
       "<table>\n",
       "<caption>A tibble: 6 × 5</caption>\n",
       "<thead>\n",
       "\t<tr><th scope=col>date</th><th scope=col>location</th><th scope=col>value</th><th scope=col>inc_cum</th><th scope=col>unit</th></tr>\n",
       "\t<tr><th scope=col>&lt;date&gt;</th><th scope=col>&lt;chr&gt;</th><th scope=col>&lt;dbl&gt;</th><th scope=col>&lt;chr&gt;</th><th scope=col>&lt;chr&gt;</th></tr>\n",
       "</thead>\n",
       "<tbody>\n",
       "\t<tr><td>2020-03-10</td><td>Belgium </td><td>1</td><td>inc</td><td>day</td></tr>\n",
       "\t<tr><td>2020-03-10</td><td>Brussels</td><td>1</td><td>inc</td><td>day</td></tr>\n",
       "\t<tr><td>2020-03-11</td><td>Belgium </td><td>3</td><td>inc</td><td>day</td></tr>\n",
       "\t<tr><td>2020-03-11</td><td>Brussels</td><td>2</td><td>inc</td><td>day</td></tr>\n",
       "\t<tr><td>2020-03-11</td><td>Flanders</td><td>1</td><td>inc</td><td>day</td></tr>\n",
       "\t<tr><td>2020-03-12</td><td>Belgium </td><td>1</td><td>inc</td><td>day</td></tr>\n",
       "</tbody>\n",
       "</table>\n"
      ],
      "text/latex": [
       "A tibble: 6 × 5\n",
       "\\begin{tabular}{lllll}\n",
       " date & location & value & inc\\_cum & unit\\\\\n",
       " <date> & <chr> & <dbl> & <chr> & <chr>\\\\\n",
       "\\hline\n",
       "\t 2020-03-10 & Belgium  & 1 & inc & day\\\\\n",
       "\t 2020-03-10 & Brussels & 1 & inc & day\\\\\n",
       "\t 2020-03-11 & Belgium  & 3 & inc & day\\\\\n",
       "\t 2020-03-11 & Brussels & 2 & inc & day\\\\\n",
       "\t 2020-03-11 & Flanders & 1 & inc & day\\\\\n",
       "\t 2020-03-12 & Belgium  & 1 & inc & day\\\\\n",
       "\\end{tabular}\n"
      ],
      "text/markdown": [
       "\n",
       "A tibble: 6 × 5\n",
       "\n",
       "| date &lt;date&gt; | location &lt;chr&gt; | value &lt;dbl&gt; | inc_cum &lt;chr&gt; | unit &lt;chr&gt; |\n",
       "|---|---|---|---|---|\n",
       "| 2020-03-10 | Belgium  | 1 | inc | day |\n",
       "| 2020-03-10 | Brussels | 1 | inc | day |\n",
       "| 2020-03-11 | Belgium  | 3 | inc | day |\n",
       "| 2020-03-11 | Brussels | 2 | inc | day |\n",
       "| 2020-03-11 | Flanders | 1 | inc | day |\n",
       "| 2020-03-12 | Belgium  | 1 | inc | day |\n",
       "\n"
      ],
      "text/plain": [
       "  date       location value inc_cum unit\n",
       "1 2020-03-10 Belgium  1     inc     day \n",
       "2 2020-03-10 Brussels 1     inc     day \n",
       "3 2020-03-11 Belgium  3     inc     day \n",
       "4 2020-03-11 Brussels 2     inc     day \n",
       "5 2020-03-11 Flanders 1     inc     day \n",
       "6 2020-03-12 Belgium  1     inc     day "
      ]
     },
     "metadata": {},
     "output_type": "display_data"
    }
   ],
   "source": [
    "head(truth)"
   ]
  },
  {
   "cell_type": "markdown",
   "metadata": {},
   "source": [
    "# YYG"
   ]
  },
  {
   "cell_type": "code",
   "execution_count": 116,
   "metadata": {
    "collapsed": true
   },
   "outputs": [],
   "source": [
    "yyg_to_reich<-function(yyg_data, forecast_date, horizon) {\n",
    "    \n",
    "    yyg_data <- yyg_data %>% mutate(date=as.Date(date,\"%Y-%m-%d\"))\n",
    "    \n",
    "    predictions_yyg = yyg_data[yyg_data$date>forecast_date,]\n",
    "    predictions_yyg = predictions_yyg[1:horizon,]\n",
    "    \n",
    "    ygg_reich_inc_death = data.frame(value=predictions_yyg[,\"predicted_deaths_mean\"], target_end_date=predictions_yyg$date)\n",
    "    ygg_reich_inc_death = ygg_reich_inc_death %>% \n",
    "        mutate(forecast_date = forecast_date) %>%\n",
    "        mutate(target = paste(1:horizon, \" day ahead inc death\",sep=\"\")) %>%\n",
    "        mutate(location = \"Belgium\") %>%\n",
    "        mutate(type = \"point\") %>%\n",
    "        mutate(quantile = NA)\n",
    "    ygg_reich_inc_death = ygg_reich_inc_death[,c(\"forecast_date\",\"target\",\"target_end_date\",\"location\",\"type\",\"quantile\",\"value\")]\n",
    "\n",
    "    ygg_reich_inc_death_lower = data.frame(value=predictions_yyg[,\"predicted_deaths_lower\"], target_end_date=predictions_yyg$date)\n",
    "    ygg_reich_inc_death_lower = ygg_reich_inc_death_lower %>% \n",
    "        mutate(forecast_date = forecast_date) %>%\n",
    "        mutate(target = paste(1:horizon, \" day ahead inc death\",sep=\"\")) %>%\n",
    "        mutate(location = \"Belgium\") %>%\n",
    "        mutate(type = \"quantile\") %>%\n",
    "        mutate(quantile = 0.025)\n",
    "    ygg_reich_inc_death_lower = ygg_reich_inc_death_lower[,c(\"forecast_date\",\"target\",\"target_end_date\",\"location\",\"type\",\"quantile\",\"value\")]\n",
    "\n",
    "    ygg_reich_inc_death_upper = data.frame(value=predictions_yyg[,\"predicted_deaths_upper\"], target_end_date=predictions_yyg$date)\n",
    "    ygg_reich_inc_death_upper = ygg_reich_inc_death_upper %>% \n",
    "        mutate(forecast_date = forecast_date) %>%\n",
    "        mutate(target = paste(1:horizon, \" day ahead inc death\",sep=\"\")) %>%\n",
    "        mutate(location = \"Belgium\") %>%\n",
    "        mutate(type = \"quantile\") %>%\n",
    "        mutate(quantile = 0.975)\n",
    "    ygg_reich_inc_death_upper = ygg_reich_inc_death_upper[,c(\"forecast_date\",\"target\",\"target_end_date\",\"location\",\"type\",\"quantile\",\"value\")]\n",
    "\n",
    "    ygg_reich = bind_rows(ygg_reich_inc_death, ygg_reich_inc_death_lower, ygg_reich_inc_death_upper)\n",
    "    \n",
    "    ygg_reich\n",
    "}"
   ]
  },
  {
   "cell_type": "code",
   "execution_count": 117,
   "metadata": {},
   "outputs": [
    {
     "data": {
      "text/html": [
       "<style>\n",
       ".list-inline {list-style: none; margin:0; padding: 0}\n",
       ".list-inline>li {display: inline-block}\n",
       ".list-inline>li:not(:last-child)::after {content: \"\\00b7\"; padding: 0 .5ex}\n",
       "</style>\n",
       "<ol class=list-inline><li>'2020-04-13'</li><li>'2020-04-20'</li><li>'2020-04-27'</li><li>'2020-05-04'</li><li>'2020-05-11'</li><li>'2020-05-18'</li></ol>\n"
      ],
      "text/latex": [
       "\\begin{enumerate*}\n",
       "\\item '2020-04-13'\n",
       "\\item '2020-04-20'\n",
       "\\item '2020-04-27'\n",
       "\\item '2020-05-04'\n",
       "\\item '2020-05-11'\n",
       "\\item '2020-05-18'\n",
       "\\end{enumerate*}\n"
      ],
      "text/markdown": [
       "1. '2020-04-13'\n",
       "2. '2020-04-20'\n",
       "3. '2020-04-27'\n",
       "4. '2020-05-04'\n",
       "5. '2020-05-11'\n",
       "6. '2020-05-18'\n",
       "\n",
       "\n"
      ],
      "text/plain": [
       "[1] \"2020-04-13\" \"2020-04-20\" \"2020-04-27\" \"2020-05-04\" \"2020-05-11\"\n",
       "[6] \"2020-05-18\""
      ]
     },
     "metadata": {},
     "output_type": "display_data"
    }
   ],
   "source": [
    "as.character(as.Date(\"2020-04-13\",\"%Y-%m-%d\")+(0:5)*7)"
   ]
  },
  {
   "cell_type": "code",
   "execution_count": 118,
   "metadata": {},
   "outputs": [],
   "source": [
    "dir.create(file.path(\"data-processed/YYG-ParamSearch\"), showWarnings = FALSE)\n",
    "\n",
    "horizon = 28\n",
    "forecast_dates = as.character(as.Date(\"2020-04-13\",\"%Y-%m-%d\")+(0:5)*7)\n",
    "\n",
    "for (forecast_date in forecast_dates) {\n",
    "    \n",
    "    url_yyg_data = paste('https://raw.githubusercontent.com/youyanggu/covid19_projections/master/projections/',forecast_date,'/global/Belgium_ALL.csv',sep=\"\")\n",
    "    yyg_data = read.csv(url(url_yyg_data),stringsAsFactors = FALSE)\n",
    "    \n",
    "    ygg_reich = yyg_to_reich(yyg_data, forecast_date, horizon)\n",
    "    \n",
    "    write.csv(file=paste(\"data-processed/YYG-ParamSearch/\",forecast_date,\"-YYG-ParamSearch.csv\",sep=\"\"), x=ygg_reich, row.names=F) \n",
    "    \n",
    "}"
   ]
  },
  {
   "cell_type": "code",
   "execution_count": 106,
   "metadata": {},
   "outputs": [],
   "source": []
  },
  {
   "cell_type": "code",
   "execution_count": 108,
   "metadata": {},
   "outputs": [],
   "source": []
  },
  {
   "cell_type": "code",
   "execution_count": null,
   "metadata": {
    "collapsed": true
   },
   "outputs": [],
   "source": []
  }
 ],
 "metadata": {
  "kernelspec": {
   "display_name": "R",
   "language": "R",
   "name": "ir"
  },
  "language_info": {
   "codemirror_mode": "r",
   "file_extension": ".r",
   "mimetype": "text/x-r-source",
   "name": "R",
   "pygments_lexer": "r",
   "version": "3.6.3"
  }
 },
 "nbformat": 4,
 "nbformat_minor": 2
}
