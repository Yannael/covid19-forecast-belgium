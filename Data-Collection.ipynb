{
 "cells": [
  {
   "cell_type": "code",
   "execution_count": 202,
   "metadata": {},
   "outputs": [],
   "source": [
    "library(tidyverse) #Collection of packages in the tidyverse (see https://www.tidyverse.org/)\n",
    "library(gsubfn)\n",
    "library(downloader)\n",
    "library(\"MMWRweek\")\n",
    "\n",
    "# install.packages(\"downloader\",\"MMWRweek\")"
   ]
  },
  {
   "cell_type": "markdown",
   "metadata": {},
   "source": [
    "#  John Hopkins University data"
   ]
  },
  {
   "cell_type": "markdown",
   "metadata": {},
   "source": [
    "## Mortality data"
   ]
  },
  {
   "cell_type": "code",
   "execution_count": 160,
   "metadata": {
    "collapsed": true
   },
   "outputs": [],
   "source": [
    "url_mortality_data = 'https://raw.githubusercontent.com/CSSEGISandData/COVID-19/master/csse_covid_19_data/csse_covid_19_time_series/time_series_covid19_deaths_global.csv'\n",
    "mortality_data = read.csv(url(url_mortality_data),stringsAsFactors = FALSE)"
   ]
  },
  {
   "cell_type": "code",
   "execution_count": 161,
   "metadata": {},
   "outputs": [],
   "source": [
    "mortality_data = as.numeric(mortality_data[mortality_data[,'Country.Region']==\"Belgium\",5:NCOL(mortality_data)])\n",
    "# Take day to day difference to get incient mortality \n",
    "mortality_data = mortality_data[2:length(mortality_data)]-mortality_data[1:(length(mortality_data)-1)]\n",
    "mortality_data = data.frame(list(value=mortality_data))\n",
    "mortality_data = mortality_data  %>%\n",
    "    mutate(date=as.Date(\"2020-01-23\",\"%Y-%m-%d\")+0:(NROW(mortality_data)-1)) %>%\n",
    "    mutate(location=\"Belgium\") %>%\n",
    "    filter(date>=\"2020-03-01\")"
   ]
  },
  {
   "cell_type": "code",
   "execution_count": 164,
   "metadata": {},
   "outputs": [],
   "source": [
    "write.csv(file=\"data-truth/truth-incident-deaths.csv\", x=mortality_data, row.names=F)"
   ]
  },
  {
   "cell_type": "markdown",
   "metadata": {},
   "source": [
    "# Sciensano data"
   ]
  },
  {
   "cell_type": "markdown",
   "metadata": {},
   "source": [
    "## Mortality data"
   ]
  },
  {
   "cell_type": "code",
   "execution_count": 153,
   "metadata": {
    "collapsed": true
   },
   "outputs": [],
   "source": [
    "url_mortality_data = 'https://epistat.sciensano.be/Data/COVID19BE_MORT.csv'\n",
    "mortality_data = read.csv(url(url_mortality_data),stringsAsFactors = FALSE)"
   ]
  },
  {
   "cell_type": "code",
   "execution_count": 154,
   "metadata": {},
   "outputs": [],
   "source": [
    "mortality_data = mortality_data %>% \n",
    "    mutate(date=DATE, location=REGION,value=DEATHS) %>%\n",
    "    select(date,location,value) %>%\n",
    "    group_by(date,location) %>%\n",
    "    summarize(value=sum(value,na.rm=TRUE)) "
   ]
  },
  {
   "cell_type": "code",
   "execution_count": 155,
   "metadata": {
    "collapsed": true
   },
   "outputs": [],
   "source": [
    "mortality_data_country = mortality_data %>% \n",
    "    group_by(date) %>% \n",
    "    summarize(value=sum(value,na.rm=TRUE)) %>%\n",
    "    mutate(location=\"Belgium\")"
   ]
  },
  {
   "cell_type": "code",
   "execution_count": 156,
   "metadata": {},
   "outputs": [],
   "source": [
    "mortality_data = bind_rows(mortality_data,mortality_data_country) %>%\n",
    "    arrange(date,location)"
   ]
  },
  {
   "cell_type": "code",
   "execution_count": 157,
   "metadata": {
    "collapsed": true
   },
   "outputs": [],
   "source": [
    "write.csv(file=\"data-truth/truth-incident-deaths-sciensano.csv\", x=mortality_data, row.names=F)"
   ]
  },
  {
   "cell_type": "markdown",
   "metadata": {},
   "source": [
    "# Formatting data"
   ]
  },
  {
   "cell_type": "code",
   "execution_count": 271,
   "metadata": {
    "collapsed": true
   },
   "outputs": [],
   "source": [
    "format_data<-function(data, forecast_date, horizon) {\n",
    "    \n",
    "    data <- data %>% mutate(date=as.Date(date,\"%Y-%m-%d\"))\n",
    "    \n",
    "    predictions = data[data$date>forecast_date,]\n",
    "    predictions = predictions[1:horizon,]\n",
    "    \n",
    "    inc_death = data.frame(value=predictions[,\"predicted_deaths_mean\"], target_end_date=predictions$date)\n",
    "    inc_death_day = inc_death %>% \n",
    "        dplyr::mutate(forecast_date = forecast_date) %>%\n",
    "        dplyr::mutate(target = paste(1:horizon, \" day ahead inc death\",sep=\"\")) %>%\n",
    "        dplyr::mutate(location = \"Belgium\") %>%\n",
    "        dplyr::mutate(type = \"point\") %>%\n",
    "        dplyr::mutate(quantile = NA) %>%\n",
    "        dplyr::select(forecast_date,target,target_end_date,location,type,quantile,value)\n",
    "    \n",
    "    inc_death_wk = inc_death %>% \n",
    "        dplyr::mutate(week = MMWRweek::MMWRweek(target_end_date)$MMWRweek) %>%\n",
    "        dplyr::group_by(week) %>%\n",
    "        dplyr::summarize(target_end_date = min(target_end_date),\n",
    "                         value = sum(value, na.rm = TRUE)) %>%\n",
    "        dplyr::mutate(forecast_date = forecast_date) %>%\n",
    "        dplyr::mutate(target = paste(1:(horizon/7), \" wk ahead inc death\",sep=\"\")) %>%\n",
    "        dplyr::mutate(location = \"Belgium\") %>%\n",
    "        dplyr::mutate(type = \"point\") %>%\n",
    "        dplyr::mutate(quantile = NA) %>%\n",
    "        dplyr::select(-week) %>%\n",
    "        dplyr::select(forecast_date,target,target_end_date,location,type,quantile,value)\n",
    "    \n",
    "    inc_death_lower = data.frame(value=predictions[,\"predicted_deaths_lower\"], target_end_date=predictions$date)\n",
    "    inc_death_lower_day = inc_death_lower %>% \n",
    "        dplyr::mutate(forecast_date = forecast_date) %>%\n",
    "        dplyr::mutate(target = paste(1:horizon, \" day ahead inc death\",sep=\"\")) %>%\n",
    "        dplyr::mutate(location = \"Belgium\") %>%\n",
    "        dplyr::mutate(type = \"quantile\") %>%\n",
    "        dplyr::mutate(quantile = 0.025) %>%\n",
    "        dplyr::select(forecast_date,target,target_end_date,location,type,quantile,value)\n",
    "    \n",
    "    inc_death_lower_wk = inc_death_lower %>% \n",
    "        dplyr::mutate(week = MMWRweek::MMWRweek(target_end_date)$MMWRweek) %>%\n",
    "        dplyr::group_by(week) %>%\n",
    "        dplyr::summarize(target_end_date = min(target_end_date),\n",
    "                         value = sum(value, na.rm = TRUE)) %>%\n",
    "        dplyr::mutate(forecast_date = forecast_date) %>%\n",
    "        dplyr::mutate(target = paste(1:(horizon/7), \" wk ahead inc death\",sep=\"\")) %>%\n",
    "        dplyr::mutate(location = \"Belgium\") %>%\n",
    "        dplyr::mutate(type = \"quantile\") %>%\n",
    "        dplyr::mutate(quantile = 0.025) %>%\n",
    "        dplyr::select(-week) %>%\n",
    "        dplyr::select(forecast_date,target,target_end_date,location,type,quantile,value)\n",
    "    \n",
    "    inc_death_upper = data.frame(value=predictions[,\"predicted_deaths_upper\"], target_end_date=predictions$date)\n",
    "    inc_death_upper_day = inc_death_upper %>% \n",
    "        dplyr::mutate(forecast_date = forecast_date) %>%\n",
    "        dplyr::mutate(target = paste(1:horizon, \" day ahead inc death\",sep=\"\")) %>%\n",
    "        dplyr::mutate(location = \"Belgium\") %>%\n",
    "        dplyr::mutate(type = \"quantile\") %>%\n",
    "        dplyr::mutate(quantile = 0.975) %>%\n",
    "        dplyr::select(forecast_date,target,target_end_date,location,type,quantile,value)\n",
    "    \n",
    "    inc_death_upper_wk = inc_death_upper %>% \n",
    "        dplyr::mutate(week = MMWRweek::MMWRweek(target_end_date)$MMWRweek) %>%\n",
    "        dplyr::group_by(week) %>%\n",
    "        dplyr::summarize(target_end_date = min(target_end_date),\n",
    "                         value = sum(value, na.rm = TRUE)) %>%\n",
    "        dplyr::mutate(forecast_date = forecast_date) %>%\n",
    "        dplyr::mutate(target = paste(1:(horizon/7), \" wk ahead inc death\",sep=\"\")) %>%\n",
    "        dplyr::mutate(location = \"Belgium\") %>%\n",
    "        dplyr::mutate(type = \"quantile\") %>%\n",
    "        dplyr::mutate(quantile = 0.975) %>%\n",
    "        dplyr::select(-week) %>%\n",
    "        dplyr::select(forecast_date,target,target_end_date,location,type,quantile,value)\n",
    "    \n",
    "    \n",
    "    formatted_data = bind_rows(inc_death_day, inc_death_lower_day, inc_death_upper_day, inc_death_wk, inc_death_lower_wk, inc_death_upper_wk)\n",
    "    \n",
    "    formatted_data\n",
    "}"
   ]
  },
  {
   "cell_type": "markdown",
   "metadata": {},
   "source": [
    "# YYG"
   ]
  },
  {
   "cell_type": "code",
   "execution_count": 272,
   "metadata": {},
   "outputs": [],
   "source": [
    "model_ID = \"YYG-ParamSearch\"\n",
    "\n",
    "dir.create(file.path(paste(\"data-processed/\",model_ID,sep=\"\")), showWarnings = FALSE)\n",
    "\n",
    "horizon = 28\n",
    "forecast_dates = as.character(as.Date(\"2020-04-11\",\"%Y-%m-%d\")+(0:5)*7)\n",
    "\n",
    "for (i in 1:length(forecast_dates)) { \n",
    "    \n",
    "    url_yyg_data = paste('https://raw.githubusercontent.com/youyanggu/covid19_projections/master/projections/',forecast_dates[i],'/global/Belgium_ALL.csv',sep=\"\")\n",
    "    data = read.csv(url(url_yyg_data),stringsAsFactors = FALSE)\n",
    "    \n",
    "    data = data %>% \n",
    "        select(date,predicted_deaths_mean,predicted_deaths_lower,predicted_deaths_upper)\n",
    "    \n",
    "    formatted_data = format_data(data, forecast_dates[i], horizon)\n",
    "    \n",
    "    write.csv(file=paste(\"data-processed/YYG-ParamSearch/\",forecast_dates[i],\"-YYG-ParamSearch.csv\",sep=\"\"), x=formatted_data, row.names=F) \n",
    "\n",
    "    write.csv(file=paste(\"data-processed/\",model_ID,\"/\",forecast_dates[i],\"-\",model_ID,\".csv\",sep=\"\"), x=formatted_data, row.names=F) \n",
    "\n",
    "    \n",
    "}"
   ]
  },
  {
   "cell_type": "markdown",
   "metadata": {},
   "source": [
    "# IHME\n",
    "\n",
    "* Data provided in ZIP files. The model was updated at the following dates:\n"
   ]
  },
  {
   "cell_type": "code",
   "execution_count": 270,
   "metadata": {},
   "outputs": [],
   "source": [
    "# note: Assumes that the CSV file containing data is the file starting with 'Hospitalization' in the downloaded archive\n",
    "\n",
    "model_ID = \"IHME-CurveFit\"\n",
    "\n",
    "dir.create(file.path(paste(\"data-processed/\",model_ID,sep=\"\")), showWarnings = FALSE)\n",
    "\n",
    "horizon = 28\n",
    "forecast_dates = as.character(as.Date(\"2020-04-11\",\"%Y-%m-%d\")+(0:5)*7)\n",
    "# '2020-04-11''2020-04-18''2020-04-25''2020-05-02''2020-05-09''2020-05-16'\n",
    "\n",
    "url_archives_ihme = c(\"https://ihmecovid19storage.blob.core.windows.net/archive/2020-04-10/ihme-covid19.zip\",\n",
    "                       \"https://ihmecovid19storage.blob.core.windows.net/archive/2020-04-17/ihme-covid19.zip\",\n",
    "                       \"http://www.healthdata.org/sites/default/files/files/Projects/COVID/ihme-covid19-0422.zip\",\n",
    "                       \"http://www.healthdata.org/sites/default/files/files/Projects/COVID/ihme-covid19-0422.zip\",\n",
    "                       \"https://ihmecovid19storage.blob.core.windows.net/archive/2020-05-04/ihme-covid19.zip\",\n",
    "                       \"https://ihmecovid19storage.blob.core.windows.net/archive/2020-05-12/ihme-covid19.zip\"\n",
    "                      )\n",
    "\n",
    "for (i in 1:length(forecast_dates)) { \n",
    "    \n",
    "    dir.create(file.path(\"temp\"), showWarnings = FALSE)                    \n",
    "    download(url_archives_ihme[i], dest=\"temp/dataset.zip\", mode=\"wb\") \n",
    "    unzip(\"temp/dataset.zip\", exdir = paste(\"./temp/\",forecast_dates[i],sep=\"\"))\n",
    "\n",
    "    csv_file_name = list.files(paste(\"./temp/\",forecast_dates[i],sep=\"\"),\"Hospitalization*\", rec=T)\n",
    "    csv_file_name = paste(\"./temp/\",forecast_dates[i],\"/\",csv_file_name,sep=\"\")\n",
    "    data = read.csv(csv_file_name)\n",
    "    \n",
    "    data = data[data$location_name==\"Belgium\",]\n",
    "    \n",
    "    data = data %>%\n",
    "        dplyr::mutate(predicted_deaths_mean=deaths_mean) %>%\n",
    "        dplyr::mutate(predicted_deaths_lower=deaths_lower) %>%\n",
    "        dplyr::mutate(predicted_deaths_upper=deaths_upper) %>%\n",
    "        select(date,predicted_deaths_mean,predicted_deaths_lower,predicted_deaths_upper)\n",
    "    \n",
    "    formatted_data = format_data(data, forecast_dates[i], horizon)\n",
    "    \n",
    "    write.csv(file=paste(\"data-processed/\",model_ID,\"/\",forecast_dates[i],\"-\",model_ID,\".csv\",sep=\"\"), x=formatted_data, row.names=F) \n",
    "    \n",
    "}\n"
   ]
  },
  {
   "cell_type": "code",
   "execution_count": null,
   "metadata": {
    "collapsed": true
   },
   "outputs": [],
   "source": []
  }
 ],
 "metadata": {
  "kernelspec": {
   "display_name": "R",
   "language": "R",
   "name": "ir"
  },
  "language_info": {
   "codemirror_mode": "r",
   "file_extension": ".r",
   "mimetype": "text/x-r-source",
   "name": "R",
   "pygments_lexer": "r",
   "version": "3.6.3"
  }
 },
 "nbformat": 4,
 "nbformat_minor": 2
}
